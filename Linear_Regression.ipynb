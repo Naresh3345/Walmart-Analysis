{
  "nbformat": 4,
  "nbformat_minor": 0,
  "metadata": {
    "colab": {
      "provenance": []
    },
    "kernelspec": {
      "name": "python3",
      "display_name": "Python 3"
    },
    "language_info": {
      "name": "python"
    }
  },
  "cells": [
    {
      "cell_type": "code",
      "execution_count": null,
      "metadata": {
        "id": "3RBr1sEitx5W"
      },
      "outputs": [],
      "source": [
        "import numpy as np\n",
        "import matplotlib.pyplot as plt\n",
        "from sklearn.linear_model import LinearRegression\n",
        "from sklearn.metrics import mean_squared_error, r2_score\n",
        "from scipy.stats import ttest_ind, f_oneway\n",
        "\n",
        "\n"
      ]
    },
    {
      "cell_type": "code",
      "source": [
        "# Data preparation\n",
        "ads = np.array([1, 3, 2, 1, 3]).reshape(-1, 1)  # Independent variable (ads)\n",
        "# The `reshape(-1, 1)` converts the 1D array into a 2D array, required by scikit-learn.\n",
        "sales = np.array([14, 24, 18, 17, 27])  # Dependent variable (sales)\n",
        "\n"
      ],
      "metadata": {
        "id": "Bf34BOBTtzyF"
      },
      "execution_count": null,
      "outputs": []
    },
    {
      "cell_type": "code",
      "source": [
        "# Perform linear regression using sklearn\n",
        "model = LinearRegression()  # Initialize the linear regression model\n",
        "model.fit(ads, sales)  # Fit the model to the data\n",
        "\n",
        "# Coefficients\n",
        "m = model.coef_[0]  # Slope (rate of change of sales with respect to ads)\n",
        "b = model.intercept_  # Intercept (sales value when ads = 0)\n",
        "\n",
        "print(f\"Slope (m): {m}\")\n",
        "print(f\"Intercept (b): {b}\")\n",
        "\n"
      ],
      "metadata": {
        "colab": {
          "base_uri": "https://localhost:8080/"
        },
        "id": "z2LBxWKXt1cS",
        "outputId": "b0096813-b3cf-41b0-d698-e44654cc11e3"
      },
      "execution_count": null,
      "outputs": [
        {
          "output_type": "stream",
          "name": "stdout",
          "text": [
            "Slope (m): 5.0\n",
            "Intercept (b): 10.0\n"
          ]
        }
      ]
    },
    {
      "cell_type": "code",
      "source": [
        "# Predict sales\n",
        "sales_pred = model.predict(ads)  # Predict sales based on the regression model\n",
        "\n"
      ],
      "metadata": {
        "id": "vB3evDyst4Oe"
      },
      "execution_count": null,
      "outputs": []
    },
    {
      "cell_type": "code",
      "source": [
        "# Calculate performance metrics\n",
        "r2 = r2_score(sales, sales_pred)  # R-squared: Proportion of variance explained by the model\n",
        "mse = mean_squared_error(sales, sales_pred)  # Mean Squared Error: Average squared difference between actual and predicted sales\n",
        "rmse = np.sqrt(mse)  # Root Mean Squared Error: Scale-sensitive measure of prediction error\n",
        "\n",
        "print(f\"R-squared: {r2}\")\n",
        "print(f\"Mean Squared Error (MSE): {mse}\")\n",
        "print(f\"Root Mean Squared Error (RMSE): {rmse}\")\n"
      ],
      "metadata": {
        "colab": {
          "base_uri": "https://localhost:8080/"
        },
        "id": "gGuIBYXUt6FQ",
        "outputId": "ef07612a-c269-4b7e-927a-71ed7b1d65ae"
      },
      "execution_count": null,
      "outputs": [
        {
          "output_type": "stream",
          "name": "stdout",
          "text": [
            "R-squared: 0.8771929824561404\n",
            "Mean Squared Error (MSE): 2.8\n",
            "Root Mean Squared Error (RMSE): 1.6733200530681511\n"
          ]
        }
      ]
    },
    {
      "cell_type": "code",
      "source": [
        "\n",
        "# Perform statistical tests\n",
        "# T-test (comparing actual sales and predicted sales)\n",
        "t_stat, t_p_value = ttest_ind(sales, sales_pred)  # Compares the means of actual and predicted sales\n",
        "print(f\"T-test statistic: {t_stat}, p-value: {t_p_value}\")\n",
        "\n"
      ],
      "metadata": {
        "colab": {
          "base_uri": "https://localhost:8080/"
        },
        "id": "PsOujv8Wt7zr",
        "outputId": "17a3a231-8eb1-496d-da6a-ba04a9df9e9b"
      },
      "execution_count": null,
      "outputs": [
        {
          "output_type": "stream",
          "name": "stdout",
          "text": [
            "T-test statistic: 0.0, p-value: 1.0\n"
          ]
        }
      ]
    },
    {
      "cell_type": "code",
      "source": [
        "# F-test (analysis of variance between groups)\n",
        "f_stat, f_p_value = f_oneway(sales, sales_pred)  # Tests variance differences between actual and predicted sales\n",
        "print(f\"F-test statistic: {f_stat}, p-value: {f_p_value}\")\n",
        "\n"
      ],
      "metadata": {
        "colab": {
          "base_uri": "https://localhost:8080/"
        },
        "id": "8XwNNKIQt9r2",
        "outputId": "b3528e8b-5045-47fe-ab49-fa6f90df6335"
      },
      "execution_count": null,
      "outputs": [
        {
          "output_type": "stream",
          "name": "stdout",
          "text": [
            "F-test statistic: 0.0, p-value: 1.0\n"
          ]
        }
      ]
    },
    {
      "cell_type": "code",
      "source": [
        "# Plot the data and regression line\n",
        "plt.scatter(ads, sales, color='blue', label='Actual data')  # Plot actual data points\n",
        "plt.plot(ads, sales_pred, color='red', label='Regression line')  # Plot regression line\n",
        "plt.xlabel('Ads')  # Label for the x-axis\n",
        "plt.ylabel('Sales')  # Label for the y-axis\n",
        "plt.title('Linear Regression: Ads vs Sales')  # Title of the plot\n",
        "plt.legend()  # Add legend to differentiate data points and regression line\n",
        "plt.show()  # Display the plot"
      ],
      "metadata": {
        "colab": {
          "base_uri": "https://localhost:8080/",
          "height": 472
        },
        "id": "D74VWL3Nt_AE",
        "outputId": "cb3559e4-75aa-4a2f-b4e0-77a136783bd3"
      },
      "execution_count": null,
      "outputs": [
        {
          "output_type": "display_data",
          "data": {
            "text/plain": [
              "<Figure size 640x480 with 1 Axes>"
            ],
            "image/png": "[encoded data removed]"
          },
          "metadata": {}
        }
      ]
    }
  ]
}